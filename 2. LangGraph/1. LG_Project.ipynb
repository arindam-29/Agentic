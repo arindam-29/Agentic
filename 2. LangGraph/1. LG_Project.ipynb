{
 "cells": [
  {
   "cell_type": "markdown",
   "id": "b017b285",
   "metadata": {},
   "source": [
    "Assignment:\n",
    "1. you have to create one supervisor node.\n",
    "2. create one router function\n",
    "3. create three more node\n",
    "3.1 llm call (llm node)\n",
    "3.2 RAG (rag node)\n",
    "3.3 web crawler(fetch the info in realtime from internet)\n",
    "4. created one more node after this for validation for generated output --> explore the validation part how to do that\n",
    "5. if validation going to be failed in that case again go to supervioser node and then supervisor node will again decide what needs to be call next\n",
    "6. once the validation will pass then only generate the final output"
   ]
  },
  {
   "cell_type": "markdown",
   "id": "639b171b",
   "metadata": {},
   "source": [
    "### Load ENV and WebSearch Tool"
   ]
  },
  {
   "cell_type": "code",
   "execution_count": 192,
   "id": "7ea31c9a",
   "metadata": {},
   "outputs": [],
   "source": [
    "import os\n",
    "from dotenv import load_dotenv\n",
    "from langchain_community.tools.tavily_search import TavilySearchResults\n",
    "load_dotenv()\n",
    "WS_TOOL=TavilySearchResults(api_key=os.getenv(\"TAVILY_API_KEY\"), max_results=3)"
   ]
  },
  {
   "cell_type": "markdown",
   "id": "a69e4be7",
   "metadata": {},
   "source": [
    "### LLM and Embedding Model:"
   ]
  },
  {
   "cell_type": "code",
   "execution_count": 193,
   "id": "b8cedccc",
   "metadata": {},
   "outputs": [
    {
     "data": {
      "text/plain": [
       "384"
      ]
     },
     "execution_count": 193,
     "metadata": {},
     "output_type": "execute_result"
    }
   ],
   "source": [
    "# Get LLM\n",
    "from langchain_google_genai import ChatGoogleGenerativeAI\n",
    "from langchain_huggingface import HuggingFaceEmbeddings\n",
    "MODEL=ChatGoogleGenerativeAI(model='gemini-1.5-flash')\n",
    "EMBEDDING=HuggingFaceEmbeddings(model_name=\"BAAI/bge-small-en\")\n",
    "len(EMBEDDING.embed_query(\"Hi\"))"
   ]
  },
  {
   "cell_type": "markdown",
   "id": "6807051e",
   "metadata": {},
   "source": [
    "### Load & Split Document and Create Vector DB"
   ]
  },
  {
   "cell_type": "code",
   "execution_count": 194,
   "id": "0082dcf0",
   "metadata": {},
   "outputs": [
    {
     "name": "stdout",
     "output_type": "stream",
     "text": [
      "Number of Documents: 55\n"
     ]
    }
   ],
   "source": [
    "from langchain_community.document_loaders import TextLoader, DirectoryLoader\n",
    "from langchain_community.vectorstores import Chroma, FAISS\n",
    "from langchain.text_splitter import RecursiveCharacterTextSplitter\n",
    "\n",
    "loader=DirectoryLoader(path='Data',glob=\"./*.txt\",loader_cls=TextLoader)\n",
    "\n",
    "docs=loader.load()\n",
    "\n",
    "text_splitter=RecursiveCharacterTextSplitter(\n",
    "    chunk_size=200,\n",
    "    chunk_overlap=50\n",
    ")\n",
    "\n",
    "split_docs=text_splitter.split_documents(documents=docs)\n",
    "print(\"Number of Documents:\", len(split_docs))\n",
    "\n",
    "db=FAISS.from_documents(split_docs,EMBEDDING)\n",
    "retriever = db.as_retriever(search_kwargs={'k': 4})"
   ]
  },
  {
   "cell_type": "markdown",
   "id": "9a6b0824",
   "metadata": {},
   "source": [
    "### Pydantic Class and Parser:"
   ]
  },
  {
   "cell_type": "code",
   "execution_count": 195,
   "id": "2b7d0638",
   "metadata": {},
   "outputs": [],
   "source": [
    "from pydantic import BaseModel, Field\n",
    "from langchain.output_parsers import PydanticOutputParser\n",
    "\n",
    "class TopicSelctionParser(BaseModel): #Pydantic class for Supervisor\n",
    "    Topic:str=Field(description=\"Selected Topic\")\n",
    "    Reasoning:str=Field(description=\"Reasoning behind topic selection\")\n",
    "topic_selction_parser=PydanticOutputParser(pydantic_object=TopicSelctionParser)\n",
    "\n",
    "class ValidateOutputParser(BaseModel): #Pydantic class for RAG\n",
    "    Validation:str=Field(description=\"Answer is Valid or Invalid\")\n",
    "    Reasoning:str=Field(description=\"Validation reason\")\n",
    "validate_output_parser=PydanticOutputParser(pydantic_object=ValidateOutputParser)"
   ]
  },
  {
   "cell_type": "markdown",
   "id": "4e1fe38f",
   "metadata": {},
   "source": [
    "### Prompt Templates:"
   ]
  },
  {
   "cell_type": "code",
   "execution_count": 196,
   "id": "3adcf623",
   "metadata": {},
   "outputs": [],
   "source": [
    "# Prompt Template for Supervisor Node:\n",
    "supervisor_template=\"\"\"\n",
    "    Your task is to classify the given user query into one of the following categories: [USA, Not Related]. \n",
    "    Only respond with the category name and nothing else.\n",
    "\n",
    "    User query: {question}\n",
    "    {format_instructions}\n",
    "    \"\"\"\n",
    "\n",
    "# RAG Prompt Template:\n",
    "rag_template=\"\"\"\n",
    "    You are an assistant for question-answering tasks. Use the following pieces of retrieved context to answer the question. \n",
    "    If you don't know the answer, just say that you don't know. Use three sentences maximum and keep the answer concise.\n",
    "    \n",
    "    \\nQuestion: {question} \n",
    "    \\nContext: {context} \n",
    "    \\nAnswer:\n",
    "    \"\"\"\n",
    "\n",
    "# Answer Validation Template:\n",
    "validation_template=\"\"\"\n",
    "    Your task is to classify the given user question and answer into one of the following categories: [Valid, Invalid]. \n",
    "    Answer is valid if it directly answers the question without asking to refer external website for exact answer.\n",
    "    Only respond with the category name and nothing else.\n",
    "\n",
    "    Question: {question}\n",
    "    Answer: {answer}\n",
    "    {format_instructions}\n",
    "    \"\"\"\n",
    "\n",
    "# Web Context prompt Template\n",
    "web_template=\"\"\"\n",
    "    You are an assistant for question-answering tasks. Use the following pieces of retrieved context to answer the question.\n",
    "    Use three sentences maximum to answer the question in concise, add source information if available.\n",
    "    \n",
    "    \\nQuestion: {question} \n",
    "    \\nContext: {context} \n",
    "    \\nAnswer:\n",
    "    \"\"\""
   ]
  },
  {
   "cell_type": "markdown",
   "id": "e4824de5",
   "metadata": {},
   "source": [
    "### Define AgentState:"
   ]
  },
  {
   "cell_type": "code",
   "execution_count": 197,
   "id": "930fa06d",
   "metadata": {},
   "outputs": [],
   "source": [
    "import operator\n",
    "from typing import TypedDict, Annotated, Sequence\n",
    "from langchain_core.messages import BaseMessage\n",
    "\n",
    "class AgentState(TypedDict):\n",
    "    messages: Annotated[Sequence[BaseMessage], operator.add]"
   ]
  },
  {
   "cell_type": "markdown",
   "id": "292f2cd7",
   "metadata": {},
   "source": [
    "### Supervisor Node:"
   ]
  },
  {
   "cell_type": "code",
   "execution_count": 198,
   "id": "e2df79b0",
   "metadata": {},
   "outputs": [],
   "source": [
    "from langchain_core.prompts import PromptTemplate\n",
    "def supervisor_fun(state:AgentState):\n",
    "    \n",
    "    question=state[\"messages\"][-1]\n",
    "    \n",
    "    print(\"***** Supervisor Node *****\")\n",
    "    print(\"Question: \",question)\n",
    "   \n",
    "    prompt= PromptTemplate(\n",
    "        template=supervisor_template,\n",
    "        input_variable=[\"question\"],\n",
    "        partial_variables={\"format_instructions\": topic_selction_parser.get_format_instructions()}\n",
    "    )\n",
    "    \n",
    "    chain= prompt | MODEL | topic_selction_parser\n",
    "    \n",
    "    response = chain.invoke({\"question\":question})\n",
    "    \n",
    "    print(\"Response:\", response)\n",
    "    \n",
    "    return {\"messages\": [response.Topic]}"
   ]
  },
  {
   "cell_type": "code",
   "execution_count": 199,
   "id": "9c20d500",
   "metadata": {},
   "outputs": [
    {
     "name": "stdout",
     "output_type": "stream",
     "text": [
      "***** Supervisor Node *****\n",
      "Question:  What is LLM\n",
      "Response: Topic='Not Related' Reasoning='The query \"What is LLM?\" is a general question about large language models and not specific to the USA.'\n"
     ]
    },
    {
     "data": {
      "text/plain": [
       "{'messages': ['Not Related']}"
      ]
     },
     "execution_count": 199,
     "metadata": {},
     "output_type": "execute_result"
    }
   ],
   "source": [
    "supervisor_fun({\"messages\": [\"What is LLM\"]})"
   ]
  },
  {
   "cell_type": "markdown",
   "id": "372b6bf8",
   "metadata": {},
   "source": [
    "### Router Functions:"
   ]
  },
  {
   "cell_type": "code",
   "execution_count": 200,
   "id": "a24c918e",
   "metadata": {},
   "outputs": [],
   "source": [
    "def sup_router(state:AgentState):\n",
    "\n",
    "    last_message=state[\"messages\"][-1]\n",
    "    if \"usa\" in last_message.lower():\n",
    "        return \"RAG Call\"\n",
    "    else:\n",
    "        return \"LLM Call\"\n",
    "\n",
    "def val_router(state:AgentState):\n",
    "    \n",
    "    last_message=state[\"messages\"][-1]\n",
    "    if \"Invalid\" in last_message.lower():\n",
    "        return \"Invalid Answer\"\n",
    "    else:\n",
    "        return \"Valid Answer\""
   ]
  },
  {
   "cell_type": "markdown",
   "id": "77dc25c4",
   "metadata": {},
   "source": [
    "### LLM Node:"
   ]
  },
  {
   "cell_type": "code",
   "execution_count": 201,
   "id": "1efee5b3",
   "metadata": {},
   "outputs": [],
   "source": [
    "def llm_fun(state:AgentState):\n",
    "    question=state[\"messages\"][0]\n",
    "    print(\"***** LLM Node *****\")\n",
    "    print(\"Question: \",question)\n",
    "\n",
    "    complete_query = \"Anwer the follow question with you knowledge of the real world. Following is the user question: \" + question\n",
    "    response = MODEL.invoke(complete_query)\n",
    "    return {\"messages\": [response.content]}"
   ]
  },
  {
   "cell_type": "code",
   "execution_count": 202,
   "id": "d16f78ff",
   "metadata": {},
   "outputs": [
    {
     "name": "stdout",
     "output_type": "stream",
     "text": [
      "***** LLM Node *****\n",
      "Question:  What is LLM\n"
     ]
    },
    {
     "data": {
      "text/plain": [
       "{'messages': [\"LLM stands for **Large Language Model**.  It's a type of artificial intelligence (AI) that can understand and generate human-like text.  These models are trained on massive datasets of text and code, allowing them to perform a wide range of tasks, including translation, summarization, question answering, and even creative writing.  Examples include models like GPT-3, LaMDA, and PaLM.\"]}"
      ]
     },
     "execution_count": 202,
     "metadata": {},
     "output_type": "execute_result"
    }
   ],
   "source": [
    "llm_fun({\"messages\": [\"What is LLM\"]})"
   ]
  },
  {
   "cell_type": "markdown",
   "id": "a9b1e0d7",
   "metadata": {},
   "source": [
    "### RAG Node:"
   ]
  },
  {
   "cell_type": "code",
   "execution_count": 203,
   "id": "17dc10cf",
   "metadata": {},
   "outputs": [],
   "source": [
    "from langchain_core.output_parsers import StrOutputParser\n",
    "from langchain_core.runnables import RunnablePassthrough, RunnableLambda\n",
    "\n",
    "def format_docs(docs):\n",
    "    return \"\\n\\n\".join(doc.page_content for doc in docs)\n",
    "\n",
    "def rag_fun(state:AgentState):\n",
    "    question=state[\"messages\"][0]\n",
    "    \n",
    "    print(\"***** RAG Node *****\")\n",
    "    print(\"Question: \",question)\n",
    "\n",
    "    prompt=PromptTemplate(\n",
    "    template=rag_template,\n",
    "    input_variables=['context', 'question']\n",
    "    )\n",
    "     \n",
    "    rag_chain = (\n",
    "        {\"context\": retriever | format_docs, \"question\": RunnablePassthrough()}\n",
    "        | prompt\n",
    "        | MODEL\n",
    "        | StrOutputParser()\n",
    "    )\n",
    "    result = rag_chain.invoke(question)\n",
    "    return  {\"messages\": [result]}"
   ]
  },
  {
   "cell_type": "markdown",
   "id": "d9227dfc",
   "metadata": {},
   "source": [
    "### Validation Node:"
   ]
  },
  {
   "cell_type": "code",
   "execution_count": 204,
   "id": "9c88cdae",
   "metadata": {},
   "outputs": [],
   "source": [
    "def validation_fun(state:AgentState):\n",
    "    \n",
    "    question=state[\"messages\"][0]\n",
    "    answer=state[\"messages\"][-1]\n",
    "    \n",
    "    print(\"***** Validation Node *****\")\n",
    "    print(\"Question: \",question)\n",
    "    print(\"Answer: \",answer)\n",
    "   \n",
    "    prompt= PromptTemplate(\n",
    "        template=validation_template,\n",
    "        input_variable=[\"question\", \"answer\"],\n",
    "        partial_variables={\"format_instructions\": validate_output_parser.get_format_instructions()}\n",
    "    )\n",
    "    \n",
    "    chain= prompt | MODEL | validate_output_parser\n",
    "    \n",
    "    response = chain.invoke({\"question\":question, \"answer\":answer})\n",
    "    \n",
    "    print(\"Validation:\", response)\n",
    "    \n",
    "    return {\"messages\": [response.Validation]}"
   ]
  },
  {
   "cell_type": "code",
   "execution_count": 205,
   "id": "c515bafd",
   "metadata": {},
   "outputs": [
    {
     "name": "stdout",
     "output_type": "stream",
     "text": [
      "***** Validation Node *****\n",
      "Question:  What is the GDP of USA\n",
      "Answer:  I cannot provide the exact, real-time GDP of the USA.  GDP figures are calculated and released periodically by official sources like the Bureau of Economic Analysis (BEA) in the U.S.  These figures are dynamic and change constantly.  To find the most up-to-date information, you should consult the BEA website directly.\n",
      "Validation: Validation='Invalid' Reasoning='The answer directs the user to an external website for the requested information instead of providing it directly.'\n"
     ]
    },
    {
     "data": {
      "text/plain": [
       "{'messages': ['Invalid']}"
      ]
     },
     "execution_count": 205,
     "metadata": {},
     "output_type": "execute_result"
    }
   ],
   "source": [
    "validation_fun({'messages': ['What is the GDP of USA',\n",
    "  'USA',\n",
    "  'I cannot provide the exact, real-time GDP of the USA.  GDP figures are calculated and released periodically by official sources like the Bureau of Economic Analysis (BEA) in the U.S.  These figures are dynamic and change constantly.  To find the most up-to-date information, you should consult the BEA website directly.']})"
   ]
  },
  {
   "cell_type": "markdown",
   "id": "bd0d6d4c",
   "metadata": {},
   "source": [
    "### Web Search Node:"
   ]
  },
  {
   "cell_type": "code",
   "execution_count": 206,
   "id": "5c32ff07",
   "metadata": {},
   "outputs": [],
   "source": [
    "def web_fun(state:AgentState):\n",
    "    question=state[\"messages\"][0]\n",
    "    \n",
    "    print(\"***** Web Search Node *****\")\n",
    "    print(\"Question: \",question)\n",
    "\n",
    "    prompt=PromptTemplate(\n",
    "    template=web_template,\n",
    "    input_variables=[\"context\", \"question\"]\n",
    "    )\n",
    "    \n",
    "    srearch_results=WS_TOOL.run(question)\n",
    "    context=\"\\n\".join([result.get(\"content\", '') for result in srearch_results])\n",
    "\n",
    "    rag_chain = (\n",
    "        {\"context\": RunnableLambda(lambda x:context), \"question\": RunnablePassthrough()}\n",
    "        | prompt\n",
    "        | MODEL\n",
    "        | StrOutputParser()\n",
    "    )\n",
    "    result = rag_chain.invoke(question)\n",
    "    return  {\"messages\": [result]}"
   ]
  },
  {
   "cell_type": "code",
   "execution_count": 207,
   "id": "dee92375",
   "metadata": {},
   "outputs": [
    {
     "name": "stdout",
     "output_type": "stream",
     "text": [
      "***** Web Search Node *****\n",
      "Question:  what is the price of todays Tesla stock?\n"
     ]
    },
    {
     "data": {
      "text/plain": [
       "{'messages': ['The price of Tesla stock (TSLA) varies depending on the source and time of day.  One source shows a price of $350.15, up 2.18%, while another shows $326.09, up 5.67% in the last 24 hours.  Real-time bid and ask information is available through Nasdaq Basic.']}"
      ]
     },
     "execution_count": 207,
     "metadata": {},
     "output_type": "execute_result"
    }
   ],
   "source": [
    "web_fun({'messages':['what is the price of todays Tesla stock?']})"
   ]
  },
  {
   "cell_type": "markdown",
   "id": "2bc93e07",
   "metadata": {},
   "source": [
    "### Define StateGraph:"
   ]
  },
  {
   "cell_type": "code",
   "execution_count": 208,
   "id": "09c26064",
   "metadata": {},
   "outputs": [
    {
     "data": {
      "image/png": "[encoded data removed]",
      "text/plain": [
       "<langgraph.graph.state.CompiledStateGraph object at 0x14aa88e20>"
      ]
     },
     "execution_count": 208,
     "metadata": {},
     "output_type": "execute_result"
    }
   ],
   "source": [
    "from langgraph.graph import StateGraph, END\n",
    "workflow=StateGraph(AgentState)\n",
    "\n",
    "# add nodes:\n",
    "workflow.add_node(\"Supervisor\", supervisor_fun)\n",
    "workflow.add_node(\"LLM\", llm_fun)\n",
    "workflow.add_node(\"RAG\", rag_fun)\n",
    "workflow.add_node(\"Validation\", validation_fun)\n",
    "workflow.add_node(\"Web\", web_fun)\n",
    "\n",
    "# set entry\n",
    "workflow.set_entry_point(\"Supervisor\")\n",
    "\n",
    "# add edges:\n",
    "workflow.add_conditional_edges(\"Supervisor\", sup_router,\n",
    "                                                        {\n",
    "                                                            \"RAG Call\": \"RAG\",\n",
    "                                                            \"LLM Call\": \"LLM\",\n",
    "                                                        })\n",
    "workflow.add_edge(\"LLM\", END)\n",
    "workflow.add_edge(\"RAG\", \"Validation\")\n",
    "workflow.add_conditional_edges(\"Validation\", val_router,\n",
    "                                                        {\n",
    "                                                            \"Invalid Answer\": \"Web\",\n",
    "                                                            \"Valid Answer\": END,\n",
    "                                                        })\n",
    "workflow.add_edge(\"Web\", END)                 \n",
    "workflow.compile()"
   ]
  },
  {
   "cell_type": "markdown",
   "id": "a73e693f",
   "metadata": {},
   "source": [
    "### Create APP:"
   ]
  },
  {
   "cell_type": "code",
   "execution_count": 209,
   "id": "95c22992",
   "metadata": {},
   "outputs": [],
   "source": [
    "app=workflow.compile()"
   ]
  },
  {
   "cell_type": "code",
   "execution_count": 210,
   "id": "6febe06a",
   "metadata": {},
   "outputs": [],
   "source": [
    "# state={\"messages\": [\"Hello\"]}\n",
    "# app.invoke(state)"
   ]
  },
  {
   "cell_type": "code",
   "execution_count": 216,
   "id": "5a85d591",
   "metadata": {},
   "outputs": [
    {
     "name": "stdout",
     "output_type": "stream",
     "text": [
      "***** Supervisor Node *****\n",
      "Question:  What is the GDP of USA\n",
      "Response: Topic='USA' Reasoning='The query explicitly asks for the GDP of the USA.'\n",
      "***** RAG Node *****\n",
      "Question:  What is the GDP of USA\n",
      "***** Validation Node *****\n",
      "Question:  What is the GDP of USA\n",
      "Answer:  The U.S. nominal GDP is estimated to be around $28 trillion USD as of 2024.  This represents approximately 25% of the global economy.  It holds the #1 ranking worldwide by nominal GDP.\n",
      "Validation: Validation='Valid' Reasoning='The answer provides a numerical estimate of the US GDP and context without requiring external resources.'\n"
     ]
    },
    {
     "data": {
      "text/plain": [
       "{'messages': ['What is the GDP of USA',\n",
       "  'USA',\n",
       "  'The U.S. nominal GDP is estimated to be around $28 trillion USD as of 2024.  This represents approximately 25% of the global economy.  It holds the #1 ranking worldwide by nominal GDP.',\n",
       "  'Valid']}"
      ]
     },
     "execution_count": 216,
     "metadata": {},
     "output_type": "execute_result"
    }
   ],
   "source": [
    "state={\"messages\": [\"What is the GDP of USA\"]}\n",
    "app.invoke(state)"
   ]
  },
  {
   "cell_type": "code",
   "execution_count": 212,
   "id": "e1ef075b",
   "metadata": {},
   "outputs": [],
   "source": [
    "# state={\"messages\": [\"What is the growth of world's most powerful economy?\"]}\n",
    "# app.invoke(state)"
   ]
  },
  {
   "cell_type": "code",
   "execution_count": 213,
   "id": "ceb59936",
   "metadata": {},
   "outputs": [],
   "source": [
    "# state={\"messages\": [\"What is LLM?\"]}\n",
    "# app.invoke(state)"
   ]
  },
  {
   "cell_type": "code",
   "execution_count": 214,
   "id": "ca503196",
   "metadata": {},
   "outputs": [],
   "source": [
    "# state={\"messages\": [\"What is GDP?\"]}\n",
    "# app.invoke(state)"
   ]
  },
  {
   "cell_type": "code",
   "execution_count": 215,
   "id": "f6323d9e",
   "metadata": {},
   "outputs": [
    {
     "name": "stdout",
     "output_type": "stream",
     "text": [
      "***** Supervisor Node *****\n",
      "Question:  What is the longest road in USA\n",
      "Response: Topic='USA' Reasoning='The query explicitly asks about the longest road in the USA.'\n",
      "***** RAG Node *****\n",
      "Question:  What is the longest road in USA\n",
      "***** Validation Node *****\n",
      "Question:  What is the longest road in USA\n",
      "Answer:  I don't know.  The provided text is about the US economy and doesn't contain information about roads.\n",
      "Validation: Validation='Invalid' Reasoning='The answer does not provide the length of the longest road in the USA; instead, it indicates a lack of information.'\n"
     ]
    },
    {
     "data": {
      "text/plain": [
       "{'messages': ['What is the longest road in USA',\n",
       "  'USA',\n",
       "  \"I don't know.  The provided text is about the US economy and doesn't contain information about roads.\",\n",
       "  'Invalid']}"
      ]
     },
     "execution_count": 215,
     "metadata": {},
     "output_type": "execute_result"
    }
   ],
   "source": [
    "state={\"messages\": [\"What is the longest road in USA\"]}\n",
    "app.invoke(state)"
   ]
  },
  {
   "cell_type": "code",
   "execution_count": null,
   "id": "02ac2b75",
   "metadata": {},
   "outputs": [],
   "source": []
  }
 ],
 "metadata": {
  "kernelspec": {
   "display_name": "Python 3",
   "language": "python",
   "name": "python3"
  },
  "language_info": {
   "codemirror_mode": {
    "name": "ipython",
    "version": 3
   },
   "file_extension": ".py",
   "mimetype": "text/x-python",
   "name": "python",
   "nbconvert_exporter": "python",
   "pygments_lexer": "ipython3",
   "version": "3.13.0"
  }
 },
 "nbformat": 4,
 "nbformat_minor": 5
}
