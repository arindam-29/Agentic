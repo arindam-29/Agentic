{
 "cells": [
  {
   "cell_type": "markdown",
   "id": "b017b285",
   "metadata": {},
   "source": [
    "Assignment:\n",
    "1. you have to create one supervisor node.\n",
    "2. create one router function\n",
    "3. create three more node\n",
    "3.1 llm call (llm node)\n",
    "3.2 RAG (rag node)\n",
    "3.3 web crawler(fetch the info in realtime from internet)\n",
    "4. created one more node after this for validation for generated output --> explore the validation part how to do that\n",
    "5. if validation going to be failed in that case again go to supervioser node and then supervisor node will again decide what needs to be call next\n",
    "6. once the validation will pass then only generate the final output"
   ]
  },
  {
   "cell_type": "markdown",
   "id": "a69e4be7",
   "metadata": {},
   "source": [
    "### LLM and Embedding Model:"
   ]
  },
  {
   "cell_type": "code",
   "execution_count": 62,
   "id": "b8cedccc",
   "metadata": {},
   "outputs": [
    {
     "data": {
      "text/plain": [
       "384"
      ]
     },
     "execution_count": 62,
     "metadata": {},
     "output_type": "execute_result"
    }
   ],
   "source": [
    "# Get LLM\n",
    "from langchain_google_genai import ChatGoogleGenerativeAI\n",
    "from langchain_huggingface import HuggingFaceEmbeddings\n",
    "MODEL=ChatGoogleGenerativeAI(model='gemini-1.5-flash')\n",
    "EMBEDDING=HuggingFaceEmbeddings(model_name=\"BAAI/bge-small-en\")\n",
    "len(EMBEDDING.embed_query(\"Hi\"))"
   ]
  },
  {
   "cell_type": "markdown",
   "id": "6807051e",
   "metadata": {},
   "source": [
    "### Load & Split Document and Create Vector DB"
   ]
  },
  {
   "cell_type": "code",
   "execution_count": 63,
   "id": "0082dcf0",
   "metadata": {},
   "outputs": [
    {
     "name": "stdout",
     "output_type": "stream",
     "text": [
      "Number of Documents: 55\n"
     ]
    }
   ],
   "source": [
    "from langchain_community.document_loaders import TextLoader, DirectoryLoader\n",
    "from langchain_community.vectorstores import Chroma, FAISS\n",
    "from langchain.text_splitter import RecursiveCharacterTextSplitter\n",
    "\n",
    "loader=DirectoryLoader(path='Data',glob=\"./*.txt\",loader_cls=TextLoader)\n",
    "\n",
    "docs=loader.load()\n",
    "\n",
    "text_splitter=RecursiveCharacterTextSplitter(\n",
    "    chunk_size=200,\n",
    "    chunk_overlap=50\n",
    ")\n",
    "\n",
    "split_docs=text_splitter.split_documents(documents=docs)\n",
    "print(\"Number of Documents:\", len(split_docs))\n",
    "\n",
    "db=FAISS.from_documents(split_docs,EMBEDDING)\n",
    "retriever = db.as_retriever(search_kwargs={'k': 4})"
   ]
  },
  {
   "cell_type": "markdown",
   "id": "9a6b0824",
   "metadata": {},
   "source": [
    "### Pydantic Class and Parser:"
   ]
  },
  {
   "cell_type": "code",
   "execution_count": 64,
   "id": "2b7d0638",
   "metadata": {},
   "outputs": [],
   "source": [
    "from pydantic import BaseModel, Field\n",
    "from langchain.output_parsers import PydanticOutputParser\n",
    "\n",
    "class TopicSelctionParser(BaseModel): #Pydantic class for Supervisor\n",
    "    Topic:str=Field(description=\"Selected Topic\")\n",
    "    Reasoning:str=Field(description=\"Reasoning behind topic selection\")\n",
    "\n",
    "topic_selction_parser=PydanticOutputParser(pydantic_object=TopicSelctionParser)\n",
    "\n",
    "class RAGOutputParser(BaseModel): #Pydantic class for RAG\n",
    "    AnswerStatus:str=Field(description=\"Answer Found or Not Found\")\n",
    "    Answer:str=Field(description=\"Summarized Answer from RAG\")\n",
    "\n",
    "RAG_output_parser=PydanticOutputParser(pydantic_object=RAGOutputParser)"
   ]
  },
  {
   "cell_type": "markdown",
   "id": "4e1fe38f",
   "metadata": {},
   "source": [
    "### Prompt Templates:"
   ]
  },
  {
   "cell_type": "code",
   "execution_count": 81,
   "id": "3adcf623",
   "metadata": {},
   "outputs": [],
   "source": [
    "# Prompt Template for Supervisor Node:\n",
    "supervisor_template=\"\"\"\n",
    "    Your task is to classify the given user query into one of the following categories: [USA, Not Related]. \n",
    "    Only respond with the category name and nothing else.\n",
    "\n",
    "    User query: {question}\n",
    "    {format_instructions}\n",
    "    \"\"\"\n",
    "\n",
    "# RAG Prompt Template:\n",
    "rag_template=\"\"\"\n",
    "    You are an assistant for question-answering tasks. Use the following pieces of retrieved context to answer the question. \n",
    "    If you don't know the answer, just say that you don't know. Use three sentences maximum and keep the answer concise.\n",
    "    \n",
    "    \\nQuestion: {question} \n",
    "    \\nContext: {context} \n",
    "    \\nAnswer:\n",
    "    \"\"\""
   ]
  },
  {
   "cell_type": "markdown",
   "id": "e4824de5",
   "metadata": {},
   "source": [
    "### Define AgentState:"
   ]
  },
  {
   "cell_type": "code",
   "execution_count": 66,
   "id": "930fa06d",
   "metadata": {},
   "outputs": [],
   "source": [
    "import operator\n",
    "from typing import TypedDict, Annotated, Sequence\n",
    "from langchain_core.messages import BaseMessage\n",
    "\n",
    "class AgentState(TypedDict):\n",
    "    messages: Annotated[Sequence[BaseMessage], operator.add]"
   ]
  },
  {
   "cell_type": "markdown",
   "id": "292f2cd7",
   "metadata": {},
   "source": [
    "### Supervisor Node:"
   ]
  },
  {
   "cell_type": "code",
   "execution_count": 67,
   "id": "e2df79b0",
   "metadata": {},
   "outputs": [],
   "source": [
    "from langchain_core.prompts import PromptTemplate\n",
    "def supervisor_fun(state:AgentState):\n",
    "    \n",
    "    question=state[\"messages\"][-1]\n",
    "    \n",
    "    print(\"***** Supervisor Node *****\")\n",
    "    print(\"Question: \",question)\n",
    "   \n",
    "    prompt= PromptTemplate(\n",
    "        template=supervisor_template,\n",
    "        input_variable=[\"question\"],\n",
    "        partial_variables={\"format_instructions\": topic_selction_parser.get_format_instructions()}\n",
    "    )\n",
    "    \n",
    "    chain= prompt | MODEL | topic_selction_parser\n",
    "    \n",
    "    response = chain.invoke({\"question\":question})\n",
    "    \n",
    "    print(\"Response:\", response)\n",
    "    \n",
    "    return {\"messages\": [response.Topic]}"
   ]
  },
  {
   "cell_type": "code",
   "execution_count": 68,
   "id": "9c20d500",
   "metadata": {},
   "outputs": [
    {
     "name": "stdout",
     "output_type": "stream",
     "text": [
      "***** Supervisor Node *****\n",
      "Question:  What is LLM\n",
      "Response: Topic='Not Related' Reasoning='The query \"What is LLM?\" is not related to US finance.  LLM refers to Large Language Models, a topic in artificial intelligence.'\n"
     ]
    },
    {
     "data": {
      "text/plain": [
       "{'messages': ['Not Related']}"
      ]
     },
     "execution_count": 68,
     "metadata": {},
     "output_type": "execute_result"
    }
   ],
   "source": [
    "supervisor_fun({\"messages\": [\"What is LLM\"]})"
   ]
  },
  {
   "cell_type": "markdown",
   "id": "372b6bf8",
   "metadata": {},
   "source": [
    "### Router Function:"
   ]
  },
  {
   "cell_type": "code",
   "execution_count": 69,
   "id": "a24c918e",
   "metadata": {},
   "outputs": [],
   "source": [
    "def router(state:AgentState):\n",
    "\n",
    "    last_message=state[\"messages\"][-1]\n",
    "    if \"USA\" in last_message.lower():\n",
    "        return \"RAG Call\"\n",
    "    else:\n",
    "        return \"LLM Call\""
   ]
  },
  {
   "cell_type": "markdown",
   "id": "77dc25c4",
   "metadata": {},
   "source": [
    "### LLM Node:"
   ]
  },
  {
   "cell_type": "code",
   "execution_count": 70,
   "id": "1efee5b3",
   "metadata": {},
   "outputs": [],
   "source": [
    "def llm_fun(state:AgentState):\n",
    "    question=state[\"messages\"][0]\n",
    "    print(\"***** LLM Node *****\")\n",
    "    print(\"Question: \",question)\n",
    "\n",
    "    complete_query = \"Anwer the follow question with you knowledge of the real world. Following is the user question: \" + question\n",
    "    response = MODEL.invoke(complete_query)\n",
    "    return {\"messages\": [response.content]}"
   ]
  },
  {
   "cell_type": "code",
   "execution_count": 71,
   "id": "d16f78ff",
   "metadata": {},
   "outputs": [
    {
     "name": "stdout",
     "output_type": "stream",
     "text": [
      "***** LLM Node *****\n",
      "Question:  What is LLM\n"
     ]
    },
    {
     "data": {
      "text/plain": [
       "{'messages': ['LLM stands for **Large Language Model**.  These are artificial intelligence (AI) systems trained on massive amounts of text data to understand and generate human-like text.  They can perform various tasks, including translation, summarization, question answering, and even creative writing.  Examples include models like GPT-3, LaMDA, and PaLM.']}"
      ]
     },
     "execution_count": 71,
     "metadata": {},
     "output_type": "execute_result"
    }
   ],
   "source": [
    "llm_fun({\"messages\": [\"What is LLM\"]})"
   ]
  },
  {
   "cell_type": "markdown",
   "id": "a9b1e0d7",
   "metadata": {},
   "source": [
    "### RAG Node:"
   ]
  },
  {
   "cell_type": "code",
   "execution_count": 72,
   "id": "17dc10cf",
   "metadata": {},
   "outputs": [],
   "source": [
    "from langchain_core.output_parsers import StrOutputParser\n",
    "from langchain_core.runnables import RunnablePassthrough\n",
    "\n",
    "def format_docs(docs):\n",
    "    return \"\\n\\n\".join(doc.page_content for doc in docs)\n",
    "\n",
    "def rag_fun(state:AgentState):\n",
    "    question=state[\"messages\"][0]\n",
    "    \n",
    "    print(\"***** RAG Node *****\")\n",
    "    print(\"Question: \",question)\n",
    "\n",
    "    prompt=PromptTemplate(\n",
    "    template=rag_template,\n",
    "    input_variables=['context', 'question']\n",
    "    )\n",
    "     \n",
    "    rag_chain = (\n",
    "        {\"context\": retriever | format_docs, \"question\": RunnablePassthrough()}\n",
    "        | prompt\n",
    "        | MODEL\n",
    "        | StrOutputParser()\n",
    "    )\n",
    "    result = rag_chain.invoke(question)\n",
    "    return  {\"messages\": [result]}"
   ]
  },
  {
   "cell_type": "markdown",
   "id": "2bc93e07",
   "metadata": {},
   "source": [
    "### Define StateGraph:"
   ]
  },
  {
   "cell_type": "code",
   "execution_count": 73,
   "id": "09c26064",
   "metadata": {},
   "outputs": [
    {
     "data": {
      "image/png": "[encoded data removed]",
      "text/plain": [
       "<langgraph.graph.state.CompiledStateGraph object at 0x333527ac0>"
      ]
     },
     "execution_count": 73,
     "metadata": {},
     "output_type": "execute_result"
    }
   ],
   "source": [
    "from langgraph.graph import StateGraph, END\n",
    "workflow=StateGraph(AgentState)\n",
    "\n",
    "# add nodes:\n",
    "workflow.add_node(\"Supervisor\", supervisor_fun)\n",
    "workflow.add_node(\"RAG\", rag_fun)\n",
    "workflow.add_node(\"LLM\", llm_fun)\n",
    "workflow.set_entry_point(\"Supervisor\")\n",
    "\n",
    "# add edges:\n",
    "workflow.add_conditional_edges(\"Supervisor\",router,\n",
    "        {\n",
    "            \"RAG Call\": \"RAG\",\n",
    "            \"LLM Call\": \"LLM\",\n",
    "        })\n",
    "workflow.add_edge(\"RAG\", END)\n",
    "workflow.add_edge(\"LLM\", END)\n",
    "workflow.compile()"
   ]
  },
  {
   "cell_type": "markdown",
   "id": "a73e693f",
   "metadata": {},
   "source": [
    "### Create APP:"
   ]
  },
  {
   "cell_type": "code",
   "execution_count": 74,
   "id": "95c22992",
   "metadata": {},
   "outputs": [],
   "source": [
    "app=workflow.compile()"
   ]
  },
  {
   "cell_type": "code",
   "execution_count": 75,
   "id": "6febe06a",
   "metadata": {},
   "outputs": [
    {
     "name": "stdout",
     "output_type": "stream",
     "text": [
      "***** Supervisor Node *****\n",
      "Question:  Hello\n",
      "Response: Topic='Not Related' Reasoning=\"The query 'Hello' is a generic greeting and does not contain any information related to US finance.\"\n",
      "***** LLM Node *****\n",
      "Question:  Hello\n"
     ]
    },
    {
     "data": {
      "text/plain": [
       "{'messages': ['Hello', 'Not Related', 'Hello!']}"
      ]
     },
     "execution_count": 75,
     "metadata": {},
     "output_type": "execute_result"
    }
   ],
   "source": [
    "state={\"messages\": [\"Hello\"]}\n",
    "app.invoke(state)"
   ]
  },
  {
   "cell_type": "code",
   "execution_count": 76,
   "id": "5a85d591",
   "metadata": {},
   "outputs": [
    {
     "name": "stdout",
     "output_type": "stream",
     "text": [
      "***** Supervisor Node *****\n",
      "Question:  What is the GDP of USA\n",
      "Response: Topic='USA' Reasoning='The query explicitly asks for the GDP of the USA, a key economic indicator related to US finances.'\n",
      "***** LLM Node *****\n",
      "Question:  What is the GDP of USA\n"
     ]
    },
    {
     "data": {
      "text/plain": [
       "{'messages': ['What is the GDP of USA',\n",
       "  'USA',\n",
       "  'I cannot provide the exact, real-time GDP of the USA.  GDP figures are calculated and released periodically by official sources like the Bureau of Economic Analysis (BEA) in the U.S.  These figures are dynamic and change constantly.  To find the most up-to-date information, you should consult the BEA website directly.']}"
      ]
     },
     "execution_count": 76,
     "metadata": {},
     "output_type": "execute_result"
    }
   ],
   "source": [
    "state={\"messages\": [\"What is the GDP of USA\"]}\n",
    "app.invoke(state)"
   ]
  },
  {
   "cell_type": "code",
   "execution_count": 77,
   "id": "e1ef075b",
   "metadata": {},
   "outputs": [
    {
     "name": "stdout",
     "output_type": "stream",
     "text": [
      "***** Supervisor Node *****\n",
      "Question:  What is the growth of world's most powerful economy?\n",
      "Response: Topic='USA' Reasoning=\"The query asks about the growth of the world's most powerful economy, which is generally considered to be the United States' economy.\"\n",
      "***** LLM Node *****\n",
      "Question:  What is the growth of world's most powerful economy?\n"
     ]
    },
    {
     "data": {
      "text/plain": [
       "{'messages': [\"What is the growth of world's most powerful economy?\",\n",
       "  'USA',\n",
       "  \"The world's most powerful economy is the United States.  Its growth in recent years has been somewhat variable.  While precise figures fluctuate depending on the reporting agency and the specific metric used (e.g., real GDP growth, nominal GDP growth),  the US economy has experienced periods of relatively strong growth followed by slower periods, including a period of negative growth (a recession) in 2020 due to the COVID-19 pandemic.  Currently (as of late 2023), the US economy is showing signs of slowing growth, with inflation remaining a concern and the Federal Reserve actively working to manage it.  Predicting future growth with certainty is impossible, as it depends on many interconnected factors including global events, domestic policy, and technological advancements.\"]}"
      ]
     },
     "execution_count": 77,
     "metadata": {},
     "output_type": "execute_result"
    }
   ],
   "source": [
    "state={\"messages\": [\"What is the growth of world's most powerful economy?\"]}\n",
    "app.invoke(state)"
   ]
  },
  {
   "cell_type": "code",
   "execution_count": 78,
   "id": "ceb59936",
   "metadata": {},
   "outputs": [
    {
     "name": "stdout",
     "output_type": "stream",
     "text": [
      "***** Supervisor Node *****\n",
      "Question:  What is LLM?\n",
      "Response: Topic='Not Related' Reasoning='The query \"What is LLM?\" is not related to US finance.  LLM refers to Large Language Model, a topic in artificial intelligence.'\n",
      "***** LLM Node *****\n",
      "Question:  What is LLM?\n"
     ]
    },
    {
     "data": {
      "text/plain": [
       "{'messages': ['What is LLM?',\n",
       "  'Not Related',\n",
       "  \"LLM stands for **Large Language Model**.  It's a type of artificial intelligence (AI) that's been trained on massive amounts of text data. This allows it to understand, generate, and translate human language.  Think of it as a sophisticated pattern-matching machine that can predict the next word in a sentence, or even generate entire paragraphs or articles based on a prompt.  Examples of LLMs include GPT-3, LaMDA, and PaLM.  They are used in a wide variety of applications, from chatbots and virtual assistants to language translation and text summarization.\"]}"
      ]
     },
     "execution_count": 78,
     "metadata": {},
     "output_type": "execute_result"
    }
   ],
   "source": [
    "state={\"messages\": [\"What is LLM?\"]}\n",
    "app.invoke(state)"
   ]
  },
  {
   "cell_type": "code",
   "execution_count": 79,
   "id": "ca503196",
   "metadata": {},
   "outputs": [
    {
     "name": "stdout",
     "output_type": "stream",
     "text": [
      "***** Supervisor Node *****\n",
      "Question:  What is GDP?\n",
      "Response: Topic='Not Related' Reasoning='While GDP is a financial indicator, the query does not specify it relates to the USA.'\n",
      "***** LLM Node *****\n",
      "Question:  What is GDP?\n"
     ]
    },
    {
     "data": {
      "text/plain": [
       "{'messages': ['What is GDP?',\n",
       "  'Not Related',\n",
       "  \"GDP, or Gross Domestic Product, is the total monetary or market value of all the finished goods and services produced within a country's borders in a specific time period.  It's usually calculated on an annual or quarterly basis.  Essentially, it's a measure of a country's economic output and is often used as an indicator of its overall economic health.  However, it's important to remember that GDP doesn't capture everything about a country's well-being, such as income inequality or environmental sustainability.\"]}"
      ]
     },
     "execution_count": 79,
     "metadata": {},
     "output_type": "execute_result"
    }
   ],
   "source": [
    "state={\"messages\": [\"What is GDP?\"]}\n",
    "app.invoke(state)"
   ]
  },
  {
   "cell_type": "code",
   "execution_count": 80,
   "id": "f6323d9e",
   "metadata": {},
   "outputs": [
    {
     "name": "stdout",
     "output_type": "stream",
     "text": [
      "***** Supervisor Node *****\n",
      "Question:  What is the longest road in USA\n",
      "Response: Topic='Not Related' Reasoning='The query asks about the longest road in the USA, which is a geographical question, not a financial one.'\n",
      "***** LLM Node *****\n",
      "Question:  What is the longest road in USA\n"
     ]
    },
    {
     "data": {
      "text/plain": [
       "{'messages': ['What is the longest road in USA',\n",
       "  'Not Related',\n",
       "  'There\\'s no single definitive answer to \"the longest road in the USA\" because it depends on how you define \"road.\"  There\\'s no single continuous road stretching thousands of miles.  The term is ambiguous and can refer to:\\n\\n* **Longest continuous highway:**  This is often cited as the U.S. Route 20, which stretches approximately 3,365 miles across the country. However, even this isn\\'t a completely continuous, perfectly straight road – it has many changes in route number and segments.\\n\\n* **Longest named highway:**  This is difficult to definitively say, as many highways share names across different states.\\n\\n* **Longest numbered route:** Again, this is ambiguous due to the way routes are numbered and segmented.\\n\\n\\nTherefore, while U.S. Route 20 is frequently cited as the longest, it\\'s more accurate to say it\\'s *one of* the longest routes, and the title is debatable depending on the criteria used.']}"
      ]
     },
     "execution_count": 80,
     "metadata": {},
     "output_type": "execute_result"
    }
   ],
   "source": [
    "state={\"messages\": [\"What is the longest road in USA\"]}\n",
    "app.invoke(state)"
   ]
  },
  {
   "cell_type": "code",
   "execution_count": null,
   "id": "e5727720",
   "metadata": {},
   "outputs": [],
   "source": []
  }
 ],
 "metadata": {
  "kernelspec": {
   "display_name": "Python 3",
   "language": "python",
   "name": "python3"
  },
  "language_info": {
   "codemirror_mode": {
    "name": "ipython",
    "version": 3
   },
   "file_extension": ".py",
   "mimetype": "text/x-python",
   "name": "python",
   "nbconvert_exporter": "python",
   "pygments_lexer": "ipython3",
   "version": "3.13.0"
  }
 },
 "nbformat": 4,
 "nbformat_minor": 5
}
